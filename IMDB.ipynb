{
 "cells": [
  {
   "cell_type": "markdown",
   "metadata": {},
   "source": [
    "#  IMDB All U.S. Released Movies: 1972-2016 Analysis"
   ]
  },
  {
   "cell_type": "code",
   "execution_count": 50,
   "metadata": {
    "collapsed": false
   },
   "outputs": [],
   "source": [
    "from urllib.request import urlopen\n",
    "from bs4 import BeautifulSoup\n",
    "import pandas as pd\n",
    "import numpy as np"
   ]
  },
  {
   "cell_type": "markdown",
   "metadata": {},
   "source": [
    "### Creating pandas empty data frame \n",
    "data will be filled after reading url"
   ]
  },
  {
   "cell_type": "code",
   "execution_count": 280,
   "metadata": {
    "collapsed": false
   },
   "outputs": [],
   "source": [
    "columns =['name','year','runtime', 'certificate','genre','rating','url']\n",
    "mov_df = pd.DataFrame(columns=columns)"
   ]
  },
  {
   "cell_type": "markdown",
   "metadata": {},
   "source": [
    "## Collecting Movie name, year, duration, certificate, genre, rating"
   ]
  },
  {
   "cell_type": "code",
   "execution_count": 282,
   "metadata": {
    "collapsed": false
   },
   "outputs": [
    {
     "name": "stdout",
     "output_type": "stream",
     "text": [
      "2017-12-23 23:21:13.046054\n",
      "2017-12-23 23:32:18.596046\n",
      "                                 name    year  runtime certificate  \\\n",
      "0                        Pulp Fiction  (1994)  154 min           R   \n",
      "1            The Amazing Spider-Man 2  (2014)  142 min       PG-13   \n",
      "2            The Shawshank Redemption  (1994)  142 min           R   \n",
      "3  Star Wars: Episode IV - A New Hope  (1977)  121 min          PG   \n",
      "4                  Back to the Future  (1985)  116 min          PG   \n",
      "\n",
      "                        genre rating                                   url  \n",
      "0                Crime, Drama    8.9  http://www.imdb.com/title/tt0110912/  \n",
      "1   Action, Adventure, Sci-Fi    6.7  http://www.imdb.com/title/tt1872181/  \n",
      "2                Crime, Drama    9.3  http://www.imdb.com/title/tt0111161/  \n",
      "3  Action, Adventure, Fantasy    8.7  http://www.imdb.com/title/tt0076759/  \n",
      "4   Adventure, Comedy, Sci-Fi    8.5  http://www.imdb.com/title/tt0088763/  \n"
     ]
    }
   ],
   "source": [
    "from datetime import datetime\n",
    "print(str(datetime.now()))\n",
    "rows = []\n",
    "for count in range(1,101):\n",
    "    html = urlopen(\"http://www.imdb.com/list/ls057823854/?sort=list_order,asc&st_dt=&mode=detail&page=\"+str(count))\n",
    "    bsObj = BeautifulSoup(html.read(), \"lxml\");\n",
    "    nameList=bsObj.find_all(\"div\", class_=\"lister-item-content\")\n",
    "    name=url=certificate=genre = 'None'\n",
    "    year=runtime=rating=''\n",
    "    for h in nameList:\n",
    "        name = h.find('a').text\n",
    "        if h.find('span',class_=\"lister-item-year text-muted unbold\") is not None:\n",
    "            year = h.find('span',class_=\"lister-item-year text-muted unbold\").text\n",
    "        if h.find('span',class_=\"runtime\") is not None:\n",
    "            runtime = h.find('span',class_=\"runtime\").text\n",
    "        if h.find('div',class_=\"inline-block ratings-imdb-rating\") is not None:\n",
    "            if 'data-value' in h.find('div',class_=\"inline-block ratings-imdb-rating\").attrs.keys():\n",
    "                rating = h.find('div',class_=\"inline-block ratings-imdb-rating\").attrs['data-value']\n",
    "        url = h.find('a').attrs['href']\n",
    "        if h.find('span',class_=\"certificate\") is not None:\n",
    "            certificate = h.find('span',class_=\"certificate\").text\n",
    "        if h.find('span',class_=\"genre\") is not None:\n",
    "            genre = h.find('span',class_=\"genre\").text\n",
    "        row=[name,year,runtime,certificate,genre.strip(' \\t\\n\\r'),rating,'http://www.imdb.com'+url.split(\"?\",1)[0]]\n",
    "        rows.append(row)\n",
    "        \n",
    "        \n",
    "df = pd.DataFrame(rows, columns=columns)\n",
    "   \n",
    "print(str(datetime.now()))\n",
    "print(df.head(5))"
   ]
  },
  {
   "cell_type": "markdown",
   "metadata": {},
   "source": [
    "##  Persisting data"
   ]
  },
  {
   "cell_type": "code",
   "execution_count": 283,
   "metadata": {
    "collapsed": true
   },
   "outputs": [],
   "source": [
    "df.to_csv('IMDB_Movie_List.csv')"
   ]
  },
  {
   "cell_type": "markdown",
   "metadata": {},
   "source": [
    "## Collecting Parental guide info for collected movies"
   ]
  },
  {
   "cell_type": "markdown",
   "metadata": {},
   "source": [
    "* column for Movie Id so that we can join later"
   ]
  },
  {
   "cell_type": "code",
   "execution_count": 370,
   "metadata": {
    "collapsed": false
   },
   "outputs": [
    {
     "name": "stdout",
     "output_type": "stream",
     "text": [
      "                                 name    year  runtime certificate  \\\n",
      "0                        Pulp Fiction  (1994)  154 min           R   \n",
      "1            The Amazing Spider-Man 2  (2014)  142 min       PG-13   \n",
      "2            The Shawshank Redemption  (1994)  142 min           R   \n",
      "3  Star Wars: Episode IV - A New Hope  (1977)  121 min          PG   \n",
      "4                  Back to the Future  (1985)  116 min          PG   \n",
      "\n",
      "                        genre rating                                   url  \\\n",
      "0                Crime, Drama    8.9  http://www.imdb.com/title/tt0110912/   \n",
      "1   Action, Adventure, Sci-Fi    6.7  http://www.imdb.com/title/tt1872181/   \n",
      "2                Crime, Drama    9.3  http://www.imdb.com/title/tt0111161/   \n",
      "3  Action, Adventure, Fantasy    8.7  http://www.imdb.com/title/tt0076759/   \n",
      "4   Adventure, Comedy, Sci-Fi    8.5  http://www.imdb.com/title/tt0088763/   \n",
      "\n",
      "    movie_id  \n",
      "0  tt0110912  \n",
      "1  tt1872181  \n",
      "2  tt0111161  \n",
      "3  tt0076759  \n",
      "4  tt0088763  \n"
     ]
    }
   ],
   "source": [
    "df['movie_id'] = df.url.str[-10:-1]\n",
    "print(df.head())"
   ]
  },
  {
   "cell_type": "markdown",
   "metadata": {},
   "source": [
    "###  Creating 5x4 variable to store paraental guidance \n",
    "Each movies is reviewed under five catogeries\n",
    "* Sex & Nudity\n",
    "* Violence & Gore\n",
    "* Profanity \n",
    "* Alcohol, Drugs & Smoking\n",
    "* Frightening & Intense Scenes\n",
    "\n",
    "\n",
    "\n",
    "Under Each Categoriy user has four levels to rate the movies\n",
    "* None\n",
    "* Mild\n",
    "* Moderat\n",
    "* Severe"
   ]
  },
  {
   "cell_type": "code",
   "execution_count": 360,
   "metadata": {
    "collapsed": true
   },
   "outputs": [],
   "source": [
    "p_columns =['movie_id','nudity','nudity_none','nudity_mild','nudity_moderate','nudity_severe',\n",
    "        'violence','violence_none','violence_mild','violence_moderate','violence_severe',\n",
    "        'profanity','profanity_none','profanity_mild','profanity_moderate','profanity_severe',\n",
    "        'alcohol','alcohol_none','alcohol_mild','alcohol_moderate','alcohol_severe',\n",
    "        'frightening','frightening_none','frightening_mild','frightening_moderate','frightening_severe']"
   ]
  },
  {
   "cell_type": "code",
   "execution_count": 367,
   "metadata": {
    "collapsed": false
   },
   "outputs": [],
   "source": [
    "couter=len(df)"
   ]
  },
  {
   "cell_type": "markdown",
   "metadata": {},
   "source": [
    "#### Get Parents Guide data "
   ]
  },
  {
   "cell_type": "code",
   "execution_count": 369,
   "metadata": {
    "collapsed": false
   },
   "outputs": [
    {
     "name": "stdout",
     "output_type": "stream",
     "text": [
      "2017-12-24 02:52:29.779545\n",
      "2017-12-24 04:03:43.137053\n",
      "    movie_id    nudity nudity_none nudity_mild nudity_moderate nudity_severe  \\\n",
      "0  tt0110912  Moderate           0           4              16             5   \n",
      "1  tt1872181      Mild           0           1               0             0   \n",
      "2  tt0111161  Moderate           1           3               9             0   \n",
      "3  tt0076759      None          13           1               0             0   \n",
      "4  tt0088763      Mild           0           5               1             0   \n",
      "\n",
      "   violence violence_none violence_mild violence_moderate        ...          \\\n",
      "0    Severe             0             0                 9        ...           \n",
      "1  Moderate             0             0                 2        ...           \n",
      "2  Moderate             0             2                 7        ...           \n",
      "3      Mild             0             9                 5        ...           \n",
      "4      Mild             0             4                 0        ...           \n",
      "\n",
      "  alcohol alcohol_none alcohol_mild alcohol_moderate alcohol_severe  \\\n",
      "0  Severe            0            0                2             22   \n",
      "1    Mild            0            2                0              0   \n",
      "2    Mild            0            9                0              0   \n",
      "3    Mild            2           11                0              0   \n",
      "4    Mild            0            5                0              0   \n",
      "\n",
      "  frightening frightening_none frightening_mild frightening_moderate  \\\n",
      "0      Severe                0                3                    5   \n",
      "1    Moderate                0                0                    2   \n",
      "2    Moderate                1                2                    5   \n",
      "3        Mild                0               11                    3   \n",
      "4        Mild                0                5                    0   \n",
      "\n",
      "  frightening_severe  \n",
      "0                 15  \n",
      "1                  0  \n",
      "2                  1  \n",
      "3                  0  \n",
      "4                  0  \n",
      "\n",
      "[5 rows x 26 columns]\n"
     ]
    }
   ],
   "source": [
    "print(str(datetime.now()))\n",
    "p_rows = []\n",
    "for i in range(0,couter):\n",
    "    movie_id = df['movie_id'][i]\n",
    "    p_url=df['url'][i]+'parentalguide'\n",
    "    p_html = urlopen(p_url)\n",
    "    p_bsObj = BeautifulSoup(p_html.read(), \"lxml\")\n",
    "    p_nameList=p_bsObj.find_all(\"section\",class_='article listo content-advisories-index')\n",
    "    nudity_none=nudity_mild=nudity_moderate=nudity_severe=0\n",
    "    violence_none=violence_mild=violence_moderate=violence_severe=0\n",
    "    profanity_none=profanity_mild=profanity_moderate=profanity_severe=0\n",
    "    alcohol_none=alcohol_mild=alcohol_moderate=alcohol_severe=0\n",
    "    frightening_none=frightening_mild=frightening_moderate=frightening_severe=0\n",
    "    nudity=violence=profanity=alcohol=frightening=''\n",
    "    for h in p_nameList:\n",
    "        til = h.find_all('section')\n",
    "\n",
    "        for p in til:\n",
    "            \n",
    "            A_None=Mild=Moderate=Severe=0\n",
    "            if not (p.get('id') == 'certificates'  or 'spoiler' in p.get('id')) :\n",
    "                advisory=p.find('h4').text\n",
    "                if p.find('span',class_='advisory-severity-vote__vote-button-container') is not None:\n",
    "                    strArr=p.find('span',class_='advisory-severity-vote__vote-button-container').text.splitlines()\n",
    "                    str_list = list(filter(None, strArr))\n",
    "                    none=str_list[1]\n",
    "                    mild=str_list[3]\n",
    "                    moderate=str_list[5]\n",
    "                    severe=str_list[7]\n",
    "                if p.find('div',class_='advisory-severity-vote__container ipl-zebra-list__item') is not None:\n",
    "                    strArr=p.find('div',class_='advisory-severity-vote__container ipl-zebra-list__item').text.splitlines()\n",
    "                    str_list = list(filter(None, strArr))\n",
    "                    temp_advisory=str_list[0]\n",
    "                \n",
    "                if advisory =='Sex & Nudity':\n",
    "                    nudity = temp_advisory\n",
    "                    nudity_none=none\n",
    "                    nudity_mild=mild\n",
    "                    nudity_moderate=moderate\n",
    "                    nudity_severe=severe\n",
    "                    \n",
    "                elif advisory == 'Violence & Gore':\n",
    "                    violence = temp_advisory\n",
    "                    violence_none=none\n",
    "                    violence_mild=mild\n",
    "                    violence_moderate=moderate\n",
    "                    violence_severe=severe\n",
    "                    \n",
    "                elif advisory == 'Profanity':\n",
    "                    profanity = temp_advisory\n",
    "                    profanity_none=none\n",
    "                    profanity_mild=mild\n",
    "                    profanity_moderate = moderate\n",
    "                    profanity_severe=severe\n",
    "                elif advisory == 'Alcohol, Drugs & Smoking':\n",
    "                    alcohol = temp_advisory\n",
    "                    alcohol_none=none\n",
    "                    alcohol_mild=mild\n",
    "                    alcohol_moderate=moderate\n",
    "                    alcohol_severe=severe\n",
    "                elif advisory == 'Frightening & Intense Scenes':\n",
    "                    frightening = temp_advisory\n",
    "                    frightening_none=none\n",
    "                    frightening_mild=mild\n",
    "                    frightening_moderate=moderate\n",
    "                    frightening_severe=severe\n",
    "                \n",
    "            \n",
    "    row=(movie_id,nudity,nudity_none,nudity_mild,nudity_moderate,nudity_severe,\n",
    "        violence,violence_none,violence_mild,violence_moderate,violence_severe,\n",
    "        profanity,profanity_none,profanity_mild,profanity_moderate,profanity_severe,\n",
    "        alcohol,alcohol_none,alcohol_mild,alcohol_moderate,alcohol_severe,\n",
    "        frightening,frightening_none,frightening_mild,frightening_moderate,frightening_severe)\n",
    "    p_rows.append(row)\n",
    "    \n",
    "\n",
    "\n",
    "p_df = pd.DataFrame(p_rows, columns=p_columns)\n",
    "   \n",
    "print(str(datetime.now()))\n",
    "print(p_df.head(5))\n",
    "\n",
    "p_df.to_csv('Movie_PG.csv')    \n",
    "\n",
    "\n"
   ]
  },
  {
   "cell_type": "markdown",
   "metadata": {},
   "source": [
    "## Maerge both dataframe"
   ]
  },
  {
   "cell_type": "code",
   "execution_count": 372,
   "metadata": {
    "collapsed": false
   },
   "outputs": [
    {
     "data": {
      "text/html": [
       "<div>\n",
       "<table border=\"1\" class=\"dataframe\">\n",
       "  <thead>\n",
       "    <tr style=\"text-align: right;\">\n",
       "      <th></th>\n",
       "      <th>name</th>\n",
       "      <th>year</th>\n",
       "      <th>runtime</th>\n",
       "      <th>certificate</th>\n",
       "      <th>genre</th>\n",
       "      <th>rating</th>\n",
       "      <th>url</th>\n",
       "      <th>movie_id</th>\n",
       "      <th>nudity</th>\n",
       "      <th>nudity_none</th>\n",
       "      <th>...</th>\n",
       "      <th>alcohol</th>\n",
       "      <th>alcohol_none</th>\n",
       "      <th>alcohol_mild</th>\n",
       "      <th>alcohol_moderate</th>\n",
       "      <th>alcohol_severe</th>\n",
       "      <th>frightening</th>\n",
       "      <th>frightening_none</th>\n",
       "      <th>frightening_mild</th>\n",
       "      <th>frightening_moderate</th>\n",
       "      <th>frightening_severe</th>\n",
       "    </tr>\n",
       "  </thead>\n",
       "  <tbody>\n",
       "    <tr>\n",
       "      <th>0</th>\n",
       "      <td>Pulp Fiction</td>\n",
       "      <td>(1994)</td>\n",
       "      <td>154 min</td>\n",
       "      <td>R</td>\n",
       "      <td>Crime, Drama</td>\n",
       "      <td>8.9</td>\n",
       "      <td>http://www.imdb.com/title/tt0110912/</td>\n",
       "      <td>tt0110912</td>\n",
       "      <td>Moderate</td>\n",
       "      <td>0</td>\n",
       "      <td>...</td>\n",
       "      <td>Severe</td>\n",
       "      <td>0</td>\n",
       "      <td>0</td>\n",
       "      <td>2</td>\n",
       "      <td>22</td>\n",
       "      <td>Severe</td>\n",
       "      <td>0</td>\n",
       "      <td>3</td>\n",
       "      <td>5</td>\n",
       "      <td>15</td>\n",
       "    </tr>\n",
       "    <tr>\n",
       "      <th>1</th>\n",
       "      <td>The Amazing Spider-Man 2</td>\n",
       "      <td>(2014)</td>\n",
       "      <td>142 min</td>\n",
       "      <td>PG-13</td>\n",
       "      <td>Action, Adventure, Sci-Fi</td>\n",
       "      <td>6.7</td>\n",
       "      <td>http://www.imdb.com/title/tt1872181/</td>\n",
       "      <td>tt1872181</td>\n",
       "      <td>Mild</td>\n",
       "      <td>0</td>\n",
       "      <td>...</td>\n",
       "      <td>Mild</td>\n",
       "      <td>0</td>\n",
       "      <td>2</td>\n",
       "      <td>0</td>\n",
       "      <td>0</td>\n",
       "      <td>Moderate</td>\n",
       "      <td>0</td>\n",
       "      <td>0</td>\n",
       "      <td>2</td>\n",
       "      <td>0</td>\n",
       "    </tr>\n",
       "    <tr>\n",
       "      <th>2</th>\n",
       "      <td>The Shawshank Redemption</td>\n",
       "      <td>(1994)</td>\n",
       "      <td>142 min</td>\n",
       "      <td>R</td>\n",
       "      <td>Crime, Drama</td>\n",
       "      <td>9.3</td>\n",
       "      <td>http://www.imdb.com/title/tt0111161/</td>\n",
       "      <td>tt0111161</td>\n",
       "      <td>Moderate</td>\n",
       "      <td>1</td>\n",
       "      <td>...</td>\n",
       "      <td>Mild</td>\n",
       "      <td>0</td>\n",
       "      <td>9</td>\n",
       "      <td>0</td>\n",
       "      <td>0</td>\n",
       "      <td>Moderate</td>\n",
       "      <td>1</td>\n",
       "      <td>2</td>\n",
       "      <td>5</td>\n",
       "      <td>1</td>\n",
       "    </tr>\n",
       "    <tr>\n",
       "      <th>3</th>\n",
       "      <td>Star Wars: Episode IV - A New Hope</td>\n",
       "      <td>(1977)</td>\n",
       "      <td>121 min</td>\n",
       "      <td>PG</td>\n",
       "      <td>Action, Adventure, Fantasy</td>\n",
       "      <td>8.7</td>\n",
       "      <td>http://www.imdb.com/title/tt0076759/</td>\n",
       "      <td>tt0076759</td>\n",
       "      <td>None</td>\n",
       "      <td>13</td>\n",
       "      <td>...</td>\n",
       "      <td>Mild</td>\n",
       "      <td>2</td>\n",
       "      <td>11</td>\n",
       "      <td>0</td>\n",
       "      <td>0</td>\n",
       "      <td>Mild</td>\n",
       "      <td>0</td>\n",
       "      <td>11</td>\n",
       "      <td>3</td>\n",
       "      <td>0</td>\n",
       "    </tr>\n",
       "    <tr>\n",
       "      <th>4</th>\n",
       "      <td>Back to the Future</td>\n",
       "      <td>(1985)</td>\n",
       "      <td>116 min</td>\n",
       "      <td>PG</td>\n",
       "      <td>Adventure, Comedy, Sci-Fi</td>\n",
       "      <td>8.5</td>\n",
       "      <td>http://www.imdb.com/title/tt0088763/</td>\n",
       "      <td>tt0088763</td>\n",
       "      <td>Mild</td>\n",
       "      <td>0</td>\n",
       "      <td>...</td>\n",
       "      <td>Mild</td>\n",
       "      <td>0</td>\n",
       "      <td>5</td>\n",
       "      <td>0</td>\n",
       "      <td>0</td>\n",
       "      <td>Mild</td>\n",
       "      <td>0</td>\n",
       "      <td>5</td>\n",
       "      <td>0</td>\n",
       "      <td>0</td>\n",
       "    </tr>\n",
       "  </tbody>\n",
       "</table>\n",
       "<p>5 rows × 33 columns</p>\n",
       "</div>"
      ],
      "text/plain": [
       "                                 name    year  runtime certificate  \\\n",
       "0                        Pulp Fiction  (1994)  154 min           R   \n",
       "1            The Amazing Spider-Man 2  (2014)  142 min       PG-13   \n",
       "2            The Shawshank Redemption  (1994)  142 min           R   \n",
       "3  Star Wars: Episode IV - A New Hope  (1977)  121 min          PG   \n",
       "4                  Back to the Future  (1985)  116 min          PG   \n",
       "\n",
       "                        genre rating                                   url  \\\n",
       "0                Crime, Drama    8.9  http://www.imdb.com/title/tt0110912/   \n",
       "1   Action, Adventure, Sci-Fi    6.7  http://www.imdb.com/title/tt1872181/   \n",
       "2                Crime, Drama    9.3  http://www.imdb.com/title/tt0111161/   \n",
       "3  Action, Adventure, Fantasy    8.7  http://www.imdb.com/title/tt0076759/   \n",
       "4   Adventure, Comedy, Sci-Fi    8.5  http://www.imdb.com/title/tt0088763/   \n",
       "\n",
       "    movie_id    nudity nudity_none        ...         alcohol alcohol_none  \\\n",
       "0  tt0110912  Moderate           0        ...          Severe            0   \n",
       "1  tt1872181      Mild           0        ...            Mild            0   \n",
       "2  tt0111161  Moderate           1        ...            Mild            0   \n",
       "3  tt0076759      None          13        ...            Mild            2   \n",
       "4  tt0088763      Mild           0        ...            Mild            0   \n",
       "\n",
       "  alcohol_mild alcohol_moderate alcohol_severe frightening frightening_none  \\\n",
       "0            0                2             22      Severe                0   \n",
       "1            2                0              0    Moderate                0   \n",
       "2            9                0              0    Moderate                1   \n",
       "3           11                0              0        Mild                0   \n",
       "4            5                0              0        Mild                0   \n",
       "\n",
       "  frightening_mild frightening_moderate frightening_severe  \n",
       "0                3                    5                 15  \n",
       "1                0                    2                  0  \n",
       "2                2                    5                  1  \n",
       "3               11                    3                  0  \n",
       "4                5                    0                  0  \n",
       "\n",
       "[5 rows x 33 columns]"
      ]
     },
     "execution_count": 372,
     "metadata": {},
     "output_type": "execute_result"
    }
   ],
   "source": [
    "final_df=pd.merge(df, p_df, on='movie_id', how='outer')\n",
    "final_df.to_csv('IMDB_Complete_data.csv')    \n",
    "final_df.head(5)"
   ]
  },
  {
   "cell_type": "markdown",
   "metadata": {},
   "source": [
    "## Next : Get Plot Keywords data and merge with above data"
   ]
  },
  {
   "cell_type": "code",
   "execution_count": 277,
   "metadata": {
    "collapsed": false
   },
   "outputs": [
    {
     "name": "stdout",
     "output_type": "stream",
     "text": [
      "http://www.imdb.com/title/tt0110912/keywords\n"
     ]
    }
   ],
   "source": [
    "keywords_url=new_df['url'][0]+'keywords'\n",
    "print(keywords_url)\n",
    " "
   ]
  },
  {
   "cell_type": "code",
   "execution_count": 278,
   "metadata": {
    "collapsed": true
   },
   "outputs": [],
   "source": [
    "keywords_html = urlopen(keywords_url)\n",
    "keywords_bsObj = BeautifulSoup(keywords_html.read(), \"lxml\");"
   ]
  }
 ],
 "metadata": {
  "anaconda-cloud": {},
  "kernelspec": {
   "display_name": "Python [default]",
   "language": "python",
   "name": "python3"
  },
  "language_info": {
   "codemirror_mode": {
    "name": "ipython",
    "version": 3
   },
   "file_extension": ".py",
   "mimetype": "text/x-python",
   "name": "python",
   "nbconvert_exporter": "python",
   "pygments_lexer": "ipython3",
   "version": "3.5.2"
  }
 },
 "nbformat": 4,
 "nbformat_minor": 1
}

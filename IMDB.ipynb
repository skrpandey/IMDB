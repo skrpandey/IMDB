{
 "cells": [
  {
   "cell_type": "markdown",
   "metadata": {},
   "source": [
    "#  IMDB All U.S. Released Movies: 1972-2016 Analysis"
   ]
  },
  {
   "cell_type": "code",
   "execution_count": 50,
   "metadata": {
    "collapsed": false
   },
   "outputs": [],
   "source": [
    "from urllib.request import urlopen\n",
    "from bs4 import BeautifulSoup\n",
    "import pandas as pd\n",
    "import numpy as np"
   ]
  },
  {
   "cell_type": "markdown",
   "metadata": {},
   "source": [
    "### Creating pandas empty data frame \n",
    "data will be filled after reading url"
   ]
  },
  {
   "cell_type": "code",
   "execution_count": 280,
   "metadata": {
    "collapsed": false
   },
   "outputs": [],
   "source": [
    "columns =['name','year','runtime', 'certificate','genre','rating','url']\n",
    "mov_df = pd.DataFrame(columns=columns)"
   ]
  },
  {
   "cell_type": "markdown",
   "metadata": {},
   "source": [
    "## Collecting Movie name, year, duration, certificate, genre, rating"
   ]
  },
  {
   "cell_type": "code",
   "execution_count": 282,
   "metadata": {
    "collapsed": false
   },
   "outputs": [
    {
     "name": "stdout",
     "output_type": "stream",
     "text": [
      "2017-12-23 23:21:13.046054\n",
      "2017-12-23 23:32:18.596046\n",
      "                                 name    year  runtime certificate  \\\n",
      "0                        Pulp Fiction  (1994)  154 min           R   \n",
      "1            The Amazing Spider-Man 2  (2014)  142 min       PG-13   \n",
      "2            The Shawshank Redemption  (1994)  142 min           R   \n",
      "3  Star Wars: Episode IV - A New Hope  (1977)  121 min          PG   \n",
      "4                  Back to the Future  (1985)  116 min          PG   \n",
      "\n",
      "                        genre rating                                   url  \n",
      "0                Crime, Drama    8.9  http://www.imdb.com/title/tt0110912/  \n",
      "1   Action, Adventure, Sci-Fi    6.7  http://www.imdb.com/title/tt1872181/  \n",
      "2                Crime, Drama    9.3  http://www.imdb.com/title/tt0111161/  \n",
      "3  Action, Adventure, Fantasy    8.7  http://www.imdb.com/title/tt0076759/  \n",
      "4   Adventure, Comedy, Sci-Fi    8.5  http://www.imdb.com/title/tt0088763/  \n"
     ]
    }
   ],
   "source": [
    "from datetime import datetime\n",
    "print(str(datetime.now()))\n",
    "rows = []\n",
    "for count in range(1,101):\n",
    "    html = urlopen(\"http://www.imdb.com/list/ls057823854/?sort=list_order,asc&st_dt=&mode=detail&page=\"+str(count))\n",
    "    bsObj = BeautifulSoup(html.read(), \"lxml\");\n",
    "    nameList=bsObj.find_all(\"div\", class_=\"lister-item-content\")\n",
    "    name=url=certificate=genre = 'None'\n",
    "    year=runtime=rating=''\n",
    "    for h in nameList:\n",
    "        name = h.find('a').text\n",
    "        if h.find('span',class_=\"lister-item-year text-muted unbold\") is not None:\n",
    "            year = h.find('span',class_=\"lister-item-year text-muted unbold\").text\n",
    "        if h.find('span',class_=\"runtime\") is not None:\n",
    "            runtime = h.find('span',class_=\"runtime\").text\n",
    "        if h.find('div',class_=\"inline-block ratings-imdb-rating\") is not None:\n",
    "            if 'data-value' in h.find('div',class_=\"inline-block ratings-imdb-rating\").attrs.keys():\n",
    "                rating = h.find('div',class_=\"inline-block ratings-imdb-rating\").attrs['data-value']\n",
    "        url = h.find('a').attrs['href']\n",
    "        if h.find('span',class_=\"certificate\") is not None:\n",
    "            certificate = h.find('span',class_=\"certificate\").text\n",
    "        if h.find('span',class_=\"genre\") is not None:\n",
    "            genre = h.find('span',class_=\"genre\").text\n",
    "        row=[name,year,runtime,certificate,genre.strip(' \\t\\n\\r'),rating,'http://www.imdb.com'+url.split(\"?\",1)[0]]\n",
    "        rows.append(row)\n",
    "        \n",
    "        \n",
    "df = pd.DataFrame(rows, columns=columns)\n",
    "   \n",
    "print(str(datetime.now()))\n",
    "print(df.head(5))"
   ]
  },
  {
   "cell_type": "code",
   "execution_count": null,
   "metadata": {
    "collapsed": false
   },
   "outputs": [],
   "source": []
  },
  {
   "cell_type": "markdown",
   "metadata": {},
   "source": [
    "##  Persisting data"
   ]
  },
  {
   "cell_type": "code",
   "execution_count": 283,
   "metadata": {
    "collapsed": true
   },
   "outputs": [],
   "source": [
    "df.to_csv('IMDB_Movie_List.csv')"
   ]
  },
  {
   "cell_type": "markdown",
   "metadata": {},
   "source": [
    "## Collecting Parental guide info for collected movies"
   ]
  },
  {
   "cell_type": "markdown",
   "metadata": {},
   "source": [
    "* column for Movie Id so that we can join later"
   ]
  },
  {
   "cell_type": "code",
   "execution_count": 370,
   "metadata": {
    "collapsed": false
   },
   "outputs": [
    {
     "name": "stdout",
     "output_type": "stream",
     "text": [
      "                                 name    year  runtime certificate  \\\n",
      "0                        Pulp Fiction  (1994)  154 min           R   \n",
      "1            The Amazing Spider-Man 2  (2014)  142 min       PG-13   \n",
      "2            The Shawshank Redemption  (1994)  142 min           R   \n",
      "3  Star Wars: Episode IV - A New Hope  (1977)  121 min          PG   \n",
      "4                  Back to the Future  (1985)  116 min          PG   \n",
      "\n",
      "                        genre rating                                   url  \\\n",
      "0                Crime, Drama    8.9  http://www.imdb.com/title/tt0110912/   \n",
      "1   Action, Adventure, Sci-Fi    6.7  http://www.imdb.com/title/tt1872181/   \n",
      "2                Crime, Drama    9.3  http://www.imdb.com/title/tt0111161/   \n",
      "3  Action, Adventure, Fantasy    8.7  http://www.imdb.com/title/tt0076759/   \n",
      "4   Adventure, Comedy, Sci-Fi    8.5  http://www.imdb.com/title/tt0088763/   \n",
      "\n",
      "    movie_id  \n",
      "0  tt0110912  \n",
      "1  tt1872181  \n",
      "2  tt0111161  \n",
      "3  tt0076759  \n",
      "4  tt0088763  \n"
     ]
    }
   ],
   "source": [
    "df['movie_id'] = df.url.str[-10:-1]\n",
    "print(df.head())"
   ]
  },
  {
   "cell_type": "markdown",
   "metadata": {},
   "source": [
    "###  Creating 5x4 variable to store paraental guidance \n",
    "Each movies is reviewed under five catogeries\n",
    "* Sex & Nudity\n",
    "* Violence & Gore\n",
    "* Profanity \n",
    "* Alcohol, Drugs & Smoking\n",
    "* Frightening & Intense Scenes\n",
    "\n",
    "\n",
    "\n",
    "Under Each Categoriy user has four levels to rate the movies\n",
    "* None\n",
    "* Mild\n",
    "* Moderat\n",
    "* Severe"
   ]
  },
  {
   "cell_type": "code",
   "execution_count": 360,
   "metadata": {
    "collapsed": true
   },
   "outputs": [],
   "source": [
    "p_columns =['movie_id','nudity','nudity_none','nudity_mild','nudity_moderate','nudity_severe',\n",
    "        'violence','violence_none','violence_mild','violence_moderate','violence_severe',\n",
    "        'profanity','profanity_none','profanity_mild','profanity_moderate','profanity_severe',\n",
    "        'alcohol','alcohol_none','alcohol_mild','alcohol_moderate','alcohol_severe',\n",
    "        'frightening','frightening_none','frightening_mild','frightening_moderate','frightening_severe']"
   ]
  },
  {
   "cell_type": "code",
   "execution_count": 367,
   "metadata": {
    "collapsed": false
   },
   "outputs": [],
   "source": [
    "couter=len(df)"
   ]
  },
  {
   "cell_type": "markdown",
   "metadata": {},
   "source": [
    "#### Get Parents Guide data "
   ]
  },
  {
   "cell_type": "code",
   "execution_count": 369,
   "metadata": {
    "collapsed": false
   },
   "outputs": [
    {
     "name": "stdout",
     "output_type": "stream",
     "text": [
      "2017-12-24 02:52:29.779545\n",
      "2017-12-24 04:03:43.137053\n",
      "    movie_id    nudity nudity_none nudity_mild nudity_moderate nudity_severe  \\\n",
      "0  tt0110912  Moderate           0           4              16             5   \n",
      "1  tt1872181      Mild           0           1               0             0   \n",
      "2  tt0111161  Moderate           1           3               9             0   \n",
      "3  tt0076759      None          13           1               0             0   \n",
      "4  tt0088763      Mild           0           5               1             0   \n",
      "\n",
      "   violence violence_none violence_mild violence_moderate        ...          \\\n",
      "0    Severe             0             0                 9        ...           \n",
      "1  Moderate             0             0                 2        ...           \n",
      "2  Moderate             0             2                 7        ...           \n",
      "3      Mild             0             9                 5        ...           \n",
      "4      Mild             0             4                 0        ...           \n",
      "\n",
      "  alcohol alcohol_none alcohol_mild alcohol_moderate alcohol_severe  \\\n",
      "0  Severe            0            0                2             22   \n",
      "1    Mild            0            2                0              0   \n",
      "2    Mild            0            9                0              0   \n",
      "3    Mild            2           11                0              0   \n",
      "4    Mild            0            5                0              0   \n",
      "\n",
      "  frightening frightening_none frightening_mild frightening_moderate  \\\n",
      "0      Severe                0                3                    5   \n",
      "1    Moderate                0                0                    2   \n",
      "2    Moderate                1                2                    5   \n",
      "3        Mild                0               11                    3   \n",
      "4        Mild                0                5                    0   \n",
      "\n",
      "  frightening_severe  \n",
      "0                 15  \n",
      "1                  0  \n",
      "2                  1  \n",
      "3                  0  \n",
      "4                  0  \n",
      "\n",
      "[5 rows x 26 columns]\n"
     ]
    }
   ],
   "source": [
    "print(str(datetime.now()))\n",
    "p_rows = []\n",
    "for i in range(0,couter):\n",
    "    movie_id = df['movie_id'][i]\n",
    "    p_url=df['url'][i]+'parentalguide'\n",
    "    p_html = urlopen(p_url)\n",
    "    p_bsObj = BeautifulSoup(p_html.read(), \"lxml\")\n",
    "    p_nameList=p_bsObj.find_all(\"section\",class_='article listo content-advisories-index')\n",
    "    nudity_none=nudity_mild=nudity_moderate=nudity_severe=0\n",
    "    violence_none=violence_mild=violence_moderate=violence_severe=0\n",
    "    profanity_none=profanity_mild=profanity_moderate=profanity_severe=0\n",
    "    alcohol_none=alcohol_mild=alcohol_moderate=alcohol_severe=0\n",
    "    frightening_none=frightening_mild=frightening_moderate=frightening_severe=0\n",
    "    nudity=violence=profanity=alcohol=frightening=''\n",
    "    for h in p_nameList:\n",
    "        til = h.find_all('section')\n",
    "\n",
    "        for p in til:\n",
    "            \n",
    "            A_None=Mild=Moderate=Severe=0\n",
    "            if not (p.get('id') == 'certificates'  or 'spoiler' in p.get('id')) :\n",
    "                advisory=p.find('h4').text\n",
    "                if p.find('span',class_='advisory-severity-vote__vote-button-container') is not None:\n",
    "                    strArr=p.find('span',class_='advisory-severity-vote__vote-button-container').text.splitlines()\n",
    "                    str_list = list(filter(None, strArr))\n",
    "                    none=str_list[1]\n",
    "                    mild=str_list[3]\n",
    "                    moderate=str_list[5]\n",
    "                    severe=str_list[7]\n",
    "                if p.find('div',class_='advisory-severity-vote__container ipl-zebra-list__item') is not None:\n",
    "                    strArr=p.find('div',class_='advisory-severity-vote__container ipl-zebra-list__item').text.splitlines()\n",
    "                    str_list = list(filter(None, strArr))\n",
    "                    temp_advisory=str_list[0]\n",
    "                \n",
    "                if advisory =='Sex & Nudity':\n",
    "                    nudity = temp_advisory\n",
    "                    nudity_none=none\n",
    "                    nudity_mild=mild\n",
    "                    nudity_moderate=moderate\n",
    "                    nudity_severe=severe\n",
    "                    \n",
    "                elif advisory == 'Violence & Gore':\n",
    "                    violence = temp_advisory\n",
    "                    violence_none=none\n",
    "                    violence_mild=mild\n",
    "                    violence_moderate=moderate\n",
    "                    violence_severe=severe\n",
    "                    \n",
    "                elif advisory == 'Profanity':\n",
    "                    profanity = temp_advisory\n",
    "                    profanity_none=none\n",
    "                    profanity_mild=mild\n",
    "                    profanity_moderate = moderate\n",
    "                    profanity_severe=severe\n",
    "                elif advisory == 'Alcohol, Drugs & Smoking':\n",
    "                    alcohol = temp_advisory\n",
    "                    alcohol_none=none\n",
    "                    alcohol_mild=mild\n",
    "                    alcohol_moderate=moderate\n",
    "                    alcohol_severe=severe\n",
    "                elif advisory == 'Frightening & Intense Scenes':\n",
    "                    frightening = temp_advisory\n",
    "                    frightening_none=none\n",
    "                    frightening_mild=mild\n",
    "                    frightening_moderate=moderate\n",
    "                    frightening_severe=severe\n",
    "                \n",
    "            \n",
    "    row=(movie_id,nudity,nudity_none,nudity_mild,nudity_moderate,nudity_severe,\n",
    "        violence,violence_none,violence_mild,violence_moderate,violence_severe,\n",
    "        profanity,profanity_none,profanity_mild,profanity_moderate,profanity_severe,\n",
    "        alcohol,alcohol_none,alcohol_mild,alcohol_moderate,alcohol_severe,\n",
    "        frightening,frightening_none,frightening_mild,frightening_moderate,frightening_severe)\n",
    "    p_rows.append(row)\n",
    "    \n",
    "\n",
    "\n",
    "p_df = pd.DataFrame(p_rows, columns=p_columns)\n",
    "   \n",
    "print(str(datetime.now()))\n",
    "print(p_df.head(5))\n",
    "\n",
    "p_df.to_csv('Movie_PG.csv')    \n",
    "\n",
    "\n"
   ]
  },
  {
   "cell_type": "markdown",
   "metadata": {},
   "source": [
    "## Merge both dataframe"
   ]
  },
  {
   "cell_type": "code",
   "execution_count": 627,
   "metadata": {
    "collapsed": false
   },
   "outputs": [
    {
     "data": {
      "text/html": [
       "<div>\n",
       "<table border=\"1\" class=\"dataframe\">\n",
       "  <thead>\n",
       "    <tr style=\"text-align: right;\">\n",
       "      <th></th>\n",
       "      <th>name</th>\n",
       "      <th>year</th>\n",
       "      <th>runtime</th>\n",
       "      <th>certificate</th>\n",
       "      <th>genre</th>\n",
       "      <th>rating</th>\n",
       "      <th>url</th>\n",
       "      <th>movie_id</th>\n",
       "      <th>nudity</th>\n",
       "      <th>nudity_none</th>\n",
       "      <th>...</th>\n",
       "      <th>alcohol</th>\n",
       "      <th>alcohol_none</th>\n",
       "      <th>alcohol_mild</th>\n",
       "      <th>alcohol_moderate</th>\n",
       "      <th>alcohol_severe</th>\n",
       "      <th>frightening</th>\n",
       "      <th>frightening_none</th>\n",
       "      <th>frightening_mild</th>\n",
       "      <th>frightening_moderate</th>\n",
       "      <th>frightening_severe</th>\n",
       "    </tr>\n",
       "  </thead>\n",
       "  <tbody>\n",
       "    <tr>\n",
       "      <th>0</th>\n",
       "      <td>Pulp Fiction</td>\n",
       "      <td>(1994)</td>\n",
       "      <td>154 min</td>\n",
       "      <td>R</td>\n",
       "      <td>Crime, Drama</td>\n",
       "      <td>8.9</td>\n",
       "      <td>http://www.imdb.com/title/tt0110912/</td>\n",
       "      <td>tt0110912</td>\n",
       "      <td>Moderate</td>\n",
       "      <td>0</td>\n",
       "      <td>...</td>\n",
       "      <td>Severe</td>\n",
       "      <td>0</td>\n",
       "      <td>0</td>\n",
       "      <td>2</td>\n",
       "      <td>22</td>\n",
       "      <td>Severe</td>\n",
       "      <td>0</td>\n",
       "      <td>3</td>\n",
       "      <td>5</td>\n",
       "      <td>15</td>\n",
       "    </tr>\n",
       "    <tr>\n",
       "      <th>1</th>\n",
       "      <td>The Amazing Spider-Man 2</td>\n",
       "      <td>(2014)</td>\n",
       "      <td>142 min</td>\n",
       "      <td>PG-13</td>\n",
       "      <td>Action, Adventure, Sci-Fi</td>\n",
       "      <td>6.7</td>\n",
       "      <td>http://www.imdb.com/title/tt1872181/</td>\n",
       "      <td>tt1872181</td>\n",
       "      <td>Mild</td>\n",
       "      <td>0</td>\n",
       "      <td>...</td>\n",
       "      <td>Mild</td>\n",
       "      <td>0</td>\n",
       "      <td>2</td>\n",
       "      <td>0</td>\n",
       "      <td>0</td>\n",
       "      <td>Moderate</td>\n",
       "      <td>0</td>\n",
       "      <td>0</td>\n",
       "      <td>2</td>\n",
       "      <td>0</td>\n",
       "    </tr>\n",
       "    <tr>\n",
       "      <th>2</th>\n",
       "      <td>The Shawshank Redemption</td>\n",
       "      <td>(1994)</td>\n",
       "      <td>142 min</td>\n",
       "      <td>R</td>\n",
       "      <td>Crime, Drama</td>\n",
       "      <td>9.3</td>\n",
       "      <td>http://www.imdb.com/title/tt0111161/</td>\n",
       "      <td>tt0111161</td>\n",
       "      <td>Moderate</td>\n",
       "      <td>1</td>\n",
       "      <td>...</td>\n",
       "      <td>Mild</td>\n",
       "      <td>0</td>\n",
       "      <td>9</td>\n",
       "      <td>0</td>\n",
       "      <td>0</td>\n",
       "      <td>Moderate</td>\n",
       "      <td>1</td>\n",
       "      <td>2</td>\n",
       "      <td>5</td>\n",
       "      <td>1</td>\n",
       "    </tr>\n",
       "    <tr>\n",
       "      <th>3</th>\n",
       "      <td>Star Wars: Episode IV - A New Hope</td>\n",
       "      <td>(1977)</td>\n",
       "      <td>121 min</td>\n",
       "      <td>PG</td>\n",
       "      <td>Action, Adventure, Fantasy</td>\n",
       "      <td>8.7</td>\n",
       "      <td>http://www.imdb.com/title/tt0076759/</td>\n",
       "      <td>tt0076759</td>\n",
       "      <td>None</td>\n",
       "      <td>13</td>\n",
       "      <td>...</td>\n",
       "      <td>Mild</td>\n",
       "      <td>2</td>\n",
       "      <td>11</td>\n",
       "      <td>0</td>\n",
       "      <td>0</td>\n",
       "      <td>Mild</td>\n",
       "      <td>0</td>\n",
       "      <td>11</td>\n",
       "      <td>3</td>\n",
       "      <td>0</td>\n",
       "    </tr>\n",
       "    <tr>\n",
       "      <th>4</th>\n",
       "      <td>Back to the Future</td>\n",
       "      <td>(1985)</td>\n",
       "      <td>116 min</td>\n",
       "      <td>PG</td>\n",
       "      <td>Adventure, Comedy, Sci-Fi</td>\n",
       "      <td>8.5</td>\n",
       "      <td>http://www.imdb.com/title/tt0088763/</td>\n",
       "      <td>tt0088763</td>\n",
       "      <td>Mild</td>\n",
       "      <td>0</td>\n",
       "      <td>...</td>\n",
       "      <td>Mild</td>\n",
       "      <td>0</td>\n",
       "      <td>5</td>\n",
       "      <td>0</td>\n",
       "      <td>0</td>\n",
       "      <td>Mild</td>\n",
       "      <td>0</td>\n",
       "      <td>5</td>\n",
       "      <td>0</td>\n",
       "      <td>0</td>\n",
       "    </tr>\n",
       "  </tbody>\n",
       "</table>\n",
       "<p>5 rows × 33 columns</p>\n",
       "</div>"
      ],
      "text/plain": [
       "                                 name    year  runtime certificate  \\\n",
       "0                        Pulp Fiction  (1994)  154 min           R   \n",
       "1            The Amazing Spider-Man 2  (2014)  142 min       PG-13   \n",
       "2            The Shawshank Redemption  (1994)  142 min           R   \n",
       "3  Star Wars: Episode IV - A New Hope  (1977)  121 min          PG   \n",
       "4                  Back to the Future  (1985)  116 min          PG   \n",
       "\n",
       "                        genre rating                                   url  \\\n",
       "0                Crime, Drama    8.9  http://www.imdb.com/title/tt0110912/   \n",
       "1   Action, Adventure, Sci-Fi    6.7  http://www.imdb.com/title/tt1872181/   \n",
       "2                Crime, Drama    9.3  http://www.imdb.com/title/tt0111161/   \n",
       "3  Action, Adventure, Fantasy    8.7  http://www.imdb.com/title/tt0076759/   \n",
       "4   Adventure, Comedy, Sci-Fi    8.5  http://www.imdb.com/title/tt0088763/   \n",
       "\n",
       "    movie_id    nudity nudity_none        ...         alcohol alcohol_none  \\\n",
       "0  tt0110912  Moderate           0        ...          Severe            0   \n",
       "1  tt1872181      Mild           0        ...            Mild            0   \n",
       "2  tt0111161  Moderate           1        ...            Mild            0   \n",
       "3  tt0076759      None          13        ...            Mild            2   \n",
       "4  tt0088763      Mild           0        ...            Mild            0   \n",
       "\n",
       "  alcohol_mild alcohol_moderate alcohol_severe frightening frightening_none  \\\n",
       "0            0                2             22      Severe                0   \n",
       "1            2                0              0    Moderate                0   \n",
       "2            9                0              0    Moderate                1   \n",
       "3           11                0              0        Mild                0   \n",
       "4            5                0              0        Mild                0   \n",
       "\n",
       "  frightening_mild frightening_moderate frightening_severe  \n",
       "0                3                    5                 15  \n",
       "1                0                    2                  0  \n",
       "2                2                    5                  1  \n",
       "3               11                    3                  0  \n",
       "4                5                    0                  0  \n",
       "\n",
       "[5 rows x 33 columns]"
      ]
     },
     "execution_count": 627,
     "metadata": {},
     "output_type": "execute_result"
    }
   ],
   "source": [
    "final_df=pd.merge(df, p_df, on='movie_id', how='outer')\n",
    "# final_df.to_csv('IMDB_Complete_data.csv')    \n",
    "final_df.head(5)"
   ]
  },
  {
   "cell_type": "markdown",
   "metadata": {},
   "source": [
    "### Assign appropriate datatypes"
   ]
  },
  {
   "cell_type": "code",
   "execution_count": 628,
   "metadata": {
    "collapsed": false
   },
   "outputs": [
    {
     "data": {
      "text/plain": [
       "0        1994\n",
       "1        2014\n",
       "2        1994\n",
       "3        1977\n",
       "4        1985\n",
       "5        1985\n",
       "6        1985\n",
       "7        1991\n",
       "8        1993\n",
       "9        1994\n",
       "10       1995\n",
       "11       1995\n",
       "12       1998\n",
       "13       1998\n",
       "14       1999\n",
       "15       1999\n",
       "16       1999\n",
       "17       2000\n",
       "18       2000\n",
       "19       2001\n",
       "20       2001\n",
       "21       2002\n",
       "22       2002\n",
       "23       2003\n",
       "24       2003\n",
       "25       2004\n",
       "26       2004\n",
       "27       2005\n",
       "28       2005\n",
       "29       2005\n",
       "         ... \n",
       "10059    2015\n",
       "10060    2014\n",
       "10061    2015\n",
       "10062    2014\n",
       "10063    2015\n",
       "10064        \n",
       "10065        \n",
       "10066    2018\n",
       "10067        \n",
       "10068    2015\n",
       "10069    2016\n",
       "10070    2015\n",
       "10071        \n",
       "10072        \n",
       "10073        \n",
       "10074        \n",
       "10075        \n",
       "10076    2018\n",
       "10077    2014\n",
       "10078        \n",
       "10079    2015\n",
       "10080    2016\n",
       "10081        \n",
       "10082    2015\n",
       "10083    2015\n",
       "10084    2016\n",
       "10085    2017\n",
       "10086        \n",
       "10087    2017\n",
       "10088        \n",
       "Name: year, dtype: object"
      ]
     },
     "execution_count": 628,
     "metadata": {},
     "output_type": "execute_result"
    }
   ],
   "source": [
    "import re\n",
    "# temp_s=final_df.year.apply(lambda x: '' if x is None else str(x))\n",
    "\n",
    "final_df['year']=final_df.year.apply(lambda x: str(re.findall('\\d+', x)).strip(\"['']\"))\n",
    "final_df.year"
   ]
  },
  {
   "cell_type": "code",
   "execution_count": 630,
   "metadata": {
    "collapsed": false
   },
   "outputs": [
    {
     "data": {
      "text/plain": [
       "0        1994.0\n",
       "1        2014.0\n",
       "2        1994.0\n",
       "3        1977.0\n",
       "4        1985.0\n",
       "5        1985.0\n",
       "6        1985.0\n",
       "7        1991.0\n",
       "8        1993.0\n",
       "9        1994.0\n",
       "10       1995.0\n",
       "11       1995.0\n",
       "12       1998.0\n",
       "13       1998.0\n",
       "14       1999.0\n",
       "15       1999.0\n",
       "16       1999.0\n",
       "17       2000.0\n",
       "18       2000.0\n",
       "19       2001.0\n",
       "20       2001.0\n",
       "21       2002.0\n",
       "22       2002.0\n",
       "23       2003.0\n",
       "24       2003.0\n",
       "25       2004.0\n",
       "26       2004.0\n",
       "27       2005.0\n",
       "28       2005.0\n",
       "29       2005.0\n",
       "          ...  \n",
       "10059    2015.0\n",
       "10060    2014.0\n",
       "10061    2015.0\n",
       "10062    2014.0\n",
       "10063    2015.0\n",
       "10064       NaN\n",
       "10065       NaN\n",
       "10066    2018.0\n",
       "10067       NaN\n",
       "10068    2015.0\n",
       "10069    2016.0\n",
       "10070    2015.0\n",
       "10071       NaN\n",
       "10072       NaN\n",
       "10073       NaN\n",
       "10074       NaN\n",
       "10075       NaN\n",
       "10076    2018.0\n",
       "10077    2014.0\n",
       "10078       NaN\n",
       "10079    2015.0\n",
       "10080    2016.0\n",
       "10081       NaN\n",
       "10082    2015.0\n",
       "10083    2015.0\n",
       "10084    2016.0\n",
       "10085    2017.0\n",
       "10086       NaN\n",
       "10087    2017.0\n",
       "10088       NaN\n",
       "Name: year, dtype: float64"
      ]
     },
     "execution_count": 630,
     "metadata": {},
     "output_type": "execute_result"
    }
   ],
   "source": [
    "final_df['year']=final_df[['year']].apply(pd.to_numeric,  errors='coerce')\n",
    "final_df.year"
   ]
  },
  {
   "cell_type": "code",
   "execution_count": 435,
   "metadata": {
    "collapsed": false
   },
   "outputs": [
    {
     "name": "stdout",
     "output_type": "stream",
     "text": [
      "name                    object\n",
      "year                    object\n",
      "runtime                 object\n",
      "certificate             object\n",
      "genre                   object\n",
      "rating                  object\n",
      "url                     object\n",
      "movie_id                object\n",
      "nudity                  object\n",
      "nudity_none             object\n",
      "nudity_mild             object\n",
      "nudity_moderate         object\n",
      "nudity_severe           object\n",
      "violence                object\n",
      "violence_none           object\n",
      "violence_mild           object\n",
      "violence_moderate       object\n",
      "violence_severe         object\n",
      "profanity               object\n",
      "profanity_none          object\n",
      "profanity_mild          object\n",
      "profanity_moderate      object\n",
      "profanity_severe        object\n",
      "alcohol                 object\n",
      "alcohol_none            object\n",
      "alcohol_mild            object\n",
      "alcohol_moderate        object\n",
      "alcohol_severe          object\n",
      "frightening             object\n",
      "frightening_none        object\n",
      "frightening_mild        object\n",
      "frightening_moderate    object\n",
      "frightening_severe      object\n",
      "dtype: object\n",
      "=====================================================================\n",
      "name                     object\n",
      "year                     object\n",
      "runtime                 float64\n",
      "certificate              object\n",
      "genre                    object\n",
      "rating                  float64\n",
      "url                      object\n",
      "movie_id                 object\n",
      "nudity                   object\n",
      "nudity_none               int64\n",
      "nudity_mild               int64\n",
      "nudity_moderate           int64\n",
      "nudity_severe             int64\n",
      "violence                 object\n",
      "violence_none             int64\n",
      "violence_mild             int64\n",
      "violence_moderate         int64\n",
      "violence_severe           int64\n",
      "profanity                object\n",
      "profanity_none            int64\n",
      "profanity_mild            int64\n",
      "profanity_moderate        int64\n",
      "profanity_severe          int64\n",
      "alcohol                  object\n",
      "alcohol_none              int64\n",
      "alcohol_mild              int64\n",
      "alcohol_moderate          int64\n",
      "alcohol_severe            int64\n",
      "frightening              object\n",
      "frightening_none          int64\n",
      "frightening_mild          int64\n",
      "frightening_moderate      int64\n",
      "frightening_severe        int64\n",
      "dtype: object\n"
     ]
    }
   ],
   "source": [
    "# print(final_df.dtypes)\n",
    "\n",
    "final_df['runtime']=final_df['runtime'].str.split(' ').str[0]\n",
    "final_df[['rating', 'runtime']] = final_df[['rating', 'runtime']].apply(pd.to_numeric, errors='coerce')\n",
    "final_df[['nudity_none','nudity_mild','nudity_moderate','nudity_severe',\n",
    "        'violence_none','violence_mild','violence_moderate','violence_severe',\n",
    "        'profanity_none','profanity_mild','profanity_moderate','profanity_severe',\n",
    "        'alcohol_none','alcohol_mild','alcohol_moderate','alcohol_severe',\n",
    "        'frightening_none','frightening_mild','frightening_moderate','frightening_severe']]= final_df[['nudity_none','nudity_mild','nudity_moderate','nudity_severe',\n",
    "        'violence_none','violence_mild','violence_moderate','violence_severe',\n",
    "        'profanity_none','profanity_mild','profanity_moderate','profanity_severe',\n",
    "        'alcohol_none','alcohol_mild','alcohol_moderate','alcohol_severe',\n",
    "        'frightening_none','frightening_mild','frightening_moderate','frightening_severe']].apply(pd.to_numeric, errors='coerce')\n",
    "print('=====================================================================')\n",
    "# print(final_df.dtypes)"
   ]
  },
  {
   "cell_type": "markdown",
   "metadata": {},
   "source": [
    "#### Exploring  data\n",
    "* Get different certificates and pick list for analysis"
   ]
  },
  {
   "cell_type": "code",
   "execution_count": 574,
   "metadata": {
    "collapsed": false
   },
   "outputs": [
    {
     "name": "stdout",
     "output_type": "stream",
     "text": [
      "(10089, 33)\n"
     ]
    }
   ],
   "source": [
    "print(final_df.shape)"
   ]
  },
  {
   "cell_type": "code",
   "execution_count": 637,
   "metadata": {
    "collapsed": false
   },
   "outputs": [
    {
     "name": "stdout",
     "output_type": "stream",
     "text": [
      "(169, 33)\n",
      "(9920, 33)\n"
     ]
    }
   ],
   "source": [
    "# As per web data there are less than 10089 row - find and remove dulplicate \n",
    "temp_df=final_df\n",
    "print(temp_df[temp_df.duplicated(['movie_id'], keep=False)].shape)\n",
    "temp_df=temp_df.drop_duplicates(subset=['movie_id'], keep=False)\n",
    "print(temp_df.shape)"
   ]
  },
  {
   "cell_type": "code",
   "execution_count": 638,
   "metadata": {
    "collapsed": false
   },
   "outputs": [
    {
     "data": {
      "text/plain": [
       "array(['R', 'PG-13', 'PG', 'G', 'Not Rated', 'TV-MA', 'NC-17', 'Unrated',\n",
       "       'TV-PG', 'None', 'TV-14', 'X', 'Passed', 'TV-G', 'GP', 'Approved',\n",
       "       'TV-Y', 'TV-Y7'], dtype=object)"
      ]
     },
     "execution_count": 638,
     "metadata": {},
     "output_type": "execute_result"
    }
   ],
   "source": [
    "temp_df.certificate.unique()"
   ]
  },
  {
   "cell_type": "markdown",
   "metadata": {},
   "source": [
    "#####  My aim is to find the correlation between MPAA film ratings and Parental Guidance reviews. I am picking only five certificate relevent to Movie certificate.\n",
    "* R\n",
    "* PG-13\n",
    "* PG\n",
    "* G\n",
    "* NC"
   ]
  },
  {
   "cell_type": "code",
   "execution_count": 639,
   "metadata": {
    "collapsed": false
   },
   "outputs": [
    {
     "name": "stdout",
     "output_type": "stream",
     "text": [
      "(8542, 33)\n"
     ]
    }
   ],
   "source": [
    "sel_cert=['R', 'PG-13', 'PG', 'G', 'NC-17']\n",
    "temp_df = temp_df[temp_df['certificate'].isin(sel_cert)]\n",
    "print(temp_df.shape)"
   ]
  },
  {
   "cell_type": "code",
   "execution_count": 640,
   "metadata": {
    "collapsed": false
   },
   "outputs": [
    {
     "data": {
      "text/plain": [
       "array(['R', 'PG-13', 'PG', 'G', 'NC-17'], dtype=object)"
      ]
     },
     "execution_count": 640,
     "metadata": {},
     "output_type": "execute_result"
    }
   ],
   "source": [
    "temp_df.certificate.unique()"
   ]
  },
  {
   "cell_type": "code",
   "execution_count": 641,
   "metadata": {
    "collapsed": true
   },
   "outputs": [],
   "source": [
    "temp_df.to_csv('temp_df.csv')"
   ]
  },
  {
   "cell_type": "code",
   "execution_count": 642,
   "metadata": {
    "collapsed": false
   },
   "outputs": [
    {
     "data": {
      "text/html": [
       "<div>\n",
       "<table border=\"1\" class=\"dataframe\">\n",
       "  <thead>\n",
       "    <tr style=\"text-align: right;\">\n",
       "      <th></th>\n",
       "      <th>name</th>\n",
       "      <th>year</th>\n",
       "      <th>runtime</th>\n",
       "      <th>certificate</th>\n",
       "      <th>genre</th>\n",
       "      <th>rating</th>\n",
       "      <th>url</th>\n",
       "      <th>movie_id</th>\n",
       "      <th>nudity</th>\n",
       "      <th>nudity_none</th>\n",
       "      <th>...</th>\n",
       "      <th>alcohol</th>\n",
       "      <th>alcohol_none</th>\n",
       "      <th>alcohol_mild</th>\n",
       "      <th>alcohol_moderate</th>\n",
       "      <th>alcohol_severe</th>\n",
       "      <th>frightening</th>\n",
       "      <th>frightening_none</th>\n",
       "      <th>frightening_mild</th>\n",
       "      <th>frightening_moderate</th>\n",
       "      <th>frightening_severe</th>\n",
       "    </tr>\n",
       "  </thead>\n",
       "  <tbody>\n",
       "    <tr>\n",
       "      <th>0</th>\n",
       "      <td>Pulp Fiction</td>\n",
       "      <td>1994.0</td>\n",
       "      <td>154 min</td>\n",
       "      <td>R</td>\n",
       "      <td>Crime, Drama</td>\n",
       "      <td>8.9</td>\n",
       "      <td>http://www.imdb.com/title/tt0110912/</td>\n",
       "      <td>tt0110912</td>\n",
       "      <td>Moderate</td>\n",
       "      <td>0</td>\n",
       "      <td>...</td>\n",
       "      <td>Severe</td>\n",
       "      <td>0</td>\n",
       "      <td>0</td>\n",
       "      <td>2</td>\n",
       "      <td>22</td>\n",
       "      <td>Severe</td>\n",
       "      <td>0</td>\n",
       "      <td>3</td>\n",
       "      <td>5</td>\n",
       "      <td>15</td>\n",
       "    </tr>\n",
       "    <tr>\n",
       "      <th>1</th>\n",
       "      <td>The Amazing Spider-Man 2</td>\n",
       "      <td>2014.0</td>\n",
       "      <td>142 min</td>\n",
       "      <td>PG-13</td>\n",
       "      <td>Action, Adventure, Sci-Fi</td>\n",
       "      <td>6.7</td>\n",
       "      <td>http://www.imdb.com/title/tt1872181/</td>\n",
       "      <td>tt1872181</td>\n",
       "      <td>Mild</td>\n",
       "      <td>0</td>\n",
       "      <td>...</td>\n",
       "      <td>Mild</td>\n",
       "      <td>0</td>\n",
       "      <td>2</td>\n",
       "      <td>0</td>\n",
       "      <td>0</td>\n",
       "      <td>Moderate</td>\n",
       "      <td>0</td>\n",
       "      <td>0</td>\n",
       "      <td>2</td>\n",
       "      <td>0</td>\n",
       "    </tr>\n",
       "    <tr>\n",
       "      <th>2</th>\n",
       "      <td>The Shawshank Redemption</td>\n",
       "      <td>1994.0</td>\n",
       "      <td>142 min</td>\n",
       "      <td>R</td>\n",
       "      <td>Crime, Drama</td>\n",
       "      <td>9.3</td>\n",
       "      <td>http://www.imdb.com/title/tt0111161/</td>\n",
       "      <td>tt0111161</td>\n",
       "      <td>Moderate</td>\n",
       "      <td>1</td>\n",
       "      <td>...</td>\n",
       "      <td>Mild</td>\n",
       "      <td>0</td>\n",
       "      <td>9</td>\n",
       "      <td>0</td>\n",
       "      <td>0</td>\n",
       "      <td>Moderate</td>\n",
       "      <td>1</td>\n",
       "      <td>2</td>\n",
       "      <td>5</td>\n",
       "      <td>1</td>\n",
       "    </tr>\n",
       "    <tr>\n",
       "      <th>3</th>\n",
       "      <td>Star Wars: Episode IV - A New Hope</td>\n",
       "      <td>1977.0</td>\n",
       "      <td>121 min</td>\n",
       "      <td>PG</td>\n",
       "      <td>Action, Adventure, Fantasy</td>\n",
       "      <td>8.7</td>\n",
       "      <td>http://www.imdb.com/title/tt0076759/</td>\n",
       "      <td>tt0076759</td>\n",
       "      <td>None</td>\n",
       "      <td>13</td>\n",
       "      <td>...</td>\n",
       "      <td>Mild</td>\n",
       "      <td>2</td>\n",
       "      <td>11</td>\n",
       "      <td>0</td>\n",
       "      <td>0</td>\n",
       "      <td>Mild</td>\n",
       "      <td>0</td>\n",
       "      <td>11</td>\n",
       "      <td>3</td>\n",
       "      <td>0</td>\n",
       "    </tr>\n",
       "    <tr>\n",
       "      <th>4</th>\n",
       "      <td>Back to the Future</td>\n",
       "      <td>1985.0</td>\n",
       "      <td>116 min</td>\n",
       "      <td>PG</td>\n",
       "      <td>Adventure, Comedy, Sci-Fi</td>\n",
       "      <td>8.5</td>\n",
       "      <td>http://www.imdb.com/title/tt0088763/</td>\n",
       "      <td>tt0088763</td>\n",
       "      <td>Mild</td>\n",
       "      <td>0</td>\n",
       "      <td>...</td>\n",
       "      <td>Mild</td>\n",
       "      <td>0</td>\n",
       "      <td>5</td>\n",
       "      <td>0</td>\n",
       "      <td>0</td>\n",
       "      <td>Mild</td>\n",
       "      <td>0</td>\n",
       "      <td>5</td>\n",
       "      <td>0</td>\n",
       "      <td>0</td>\n",
       "    </tr>\n",
       "  </tbody>\n",
       "</table>\n",
       "<p>5 rows × 33 columns</p>\n",
       "</div>"
      ],
      "text/plain": [
       "                                 name    year  runtime certificate  \\\n",
       "0                        Pulp Fiction  1994.0  154 min           R   \n",
       "1            The Amazing Spider-Man 2  2014.0  142 min       PG-13   \n",
       "2            The Shawshank Redemption  1994.0  142 min           R   \n",
       "3  Star Wars: Episode IV - A New Hope  1977.0  121 min          PG   \n",
       "4                  Back to the Future  1985.0  116 min          PG   \n",
       "\n",
       "                        genre rating                                   url  \\\n",
       "0                Crime, Drama    8.9  http://www.imdb.com/title/tt0110912/   \n",
       "1   Action, Adventure, Sci-Fi    6.7  http://www.imdb.com/title/tt1872181/   \n",
       "2                Crime, Drama    9.3  http://www.imdb.com/title/tt0111161/   \n",
       "3  Action, Adventure, Fantasy    8.7  http://www.imdb.com/title/tt0076759/   \n",
       "4   Adventure, Comedy, Sci-Fi    8.5  http://www.imdb.com/title/tt0088763/   \n",
       "\n",
       "    movie_id    nudity nudity_none        ...         alcohol alcohol_none  \\\n",
       "0  tt0110912  Moderate           0        ...          Severe            0   \n",
       "1  tt1872181      Mild           0        ...            Mild            0   \n",
       "2  tt0111161  Moderate           1        ...            Mild            0   \n",
       "3  tt0076759      None          13        ...            Mild            2   \n",
       "4  tt0088763      Mild           0        ...            Mild            0   \n",
       "\n",
       "  alcohol_mild alcohol_moderate alcohol_severe frightening frightening_none  \\\n",
       "0            0                2             22      Severe                0   \n",
       "1            2                0              0    Moderate                0   \n",
       "2            9                0              0    Moderate                1   \n",
       "3           11                0              0        Mild                0   \n",
       "4            5                0              0        Mild                0   \n",
       "\n",
       "  frightening_mild frightening_moderate frightening_severe  \n",
       "0                3                    5                 15  \n",
       "1                0                    2                  0  \n",
       "2                2                    5                  1  \n",
       "3               11                    3                  0  \n",
       "4                5                    0                  0  \n",
       "\n",
       "[5 rows x 33 columns]"
      ]
     },
     "execution_count": 642,
     "metadata": {},
     "output_type": "execute_result"
    }
   ],
   "source": [
    "temp_df.head()"
   ]
  },
  {
   "cell_type": "markdown",
   "metadata": {},
   "source": [
    "## Next : Get Plot Keywords data and merge with above data"
   ]
  },
  {
   "cell_type": "code",
   "execution_count": 277,
   "metadata": {
    "collapsed": false
   },
   "outputs": [
    {
     "name": "stdout",
     "output_type": "stream",
     "text": [
      "http://www.imdb.com/title/tt0110912/keywords\n"
     ]
    }
   ],
   "source": [
    "keywords_url=new_df['url'][0]+'keywords'\n",
    "print(keywords_url)\n",
    " "
   ]
  },
  {
   "cell_type": "code",
   "execution_count": 438,
   "metadata": {
    "collapsed": true
   },
   "outputs": [],
   "source": [
    "keywords_html = urlopen(keywords_url)\n",
    "keywords_bsObj = BeautifulSoup(keywords_html.read(), \"lxml\");"
   ]
  }
 ],
 "metadata": {
  "anaconda-cloud": {},
  "kernelspec": {
   "display_name": "Python [default]",
   "language": "python",
   "name": "python3"
  },
  "language_info": {
   "codemirror_mode": {
    "name": "ipython",
    "version": 3
   },
   "file_extension": ".py",
   "mimetype": "text/x-python",
   "name": "python",
   "nbconvert_exporter": "python",
   "pygments_lexer": "ipython3",
   "version": "3.5.2"
  }
 },
 "nbformat": 4,
 "nbformat_minor": 1
}
